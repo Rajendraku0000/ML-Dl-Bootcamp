{
 "cells": [
  {
   "cell_type": "code",
   "execution_count": 1,
   "id": "a11207f3",
   "metadata": {},
   "outputs": [],
   "source": [
    "import numpy as np\n"
   ]
  },
  {
   "cell_type": "markdown",
   "id": "fec1b48f",
   "metadata": {},
   "source": [
    "# 1 dimensional array"
   ]
  },
  {
   "cell_type": "code",
   "execution_count": 2,
   "id": "46a15a86",
   "metadata": {},
   "outputs": [
    {
     "name": "stdout",
     "output_type": "stream",
     "text": [
      "enter list capacity 5\n",
      "Enter number11\n",
      "Enter number22\n",
      "Enter number33\n",
      "Enter number44\n",
      "Enter number55\n",
      "[11 22 33 44 55]\n"
     ]
    }
   ],
   "source": [
    "a=[]\n",
    "n=int(input(\"enter list capacity \"))\n",
    "\n",
    "for i in range(n):\n",
    "    c=int(input(\"Enter number\"))\n",
    "    a.append(c)\n",
    "\n",
    "array=np.array(a)\n",
    "print(array)"
   ]
  },
  {
   "cell_type": "code",
   "execution_count": 4,
   "id": "bfe911a6",
   "metadata": {},
   "outputs": [
    {
     "name": "stdout",
     "output_type": "stream",
     "text": [
      "[11 22 33 44 55]\n"
     ]
    }
   ],
   "source": [
    "print(array)"
   ]
  },
  {
   "cell_type": "code",
   "execution_count": 5,
   "id": "5d5346b6",
   "metadata": {},
   "outputs": [
    {
     "data": {
      "text/plain": [
       "1"
      ]
     },
     "execution_count": 5,
     "metadata": {},
     "output_type": "execute_result"
    }
   ],
   "source": [
    "# how to check dimensional \n",
    "array.ndim"
   ]
  },
  {
   "cell_type": "code",
   "execution_count": 7,
   "id": "7688d80c",
   "metadata": {},
   "outputs": [
    {
     "data": {
      "text/plain": [
       "(5,)"
      ]
     },
     "execution_count": 7,
     "metadata": {},
     "output_type": "execute_result"
    }
   ],
   "source": [
    "# how to check shape\n",
    "array.shape"
   ]
  },
  {
   "cell_type": "code",
   "execution_count": 8,
   "id": "5325b061",
   "metadata": {},
   "outputs": [
    {
     "name": "stdout",
     "output_type": "stream",
     "text": [
      "4\n",
      "5\n"
     ]
    }
   ],
   "source": [
    "# how to check size in array\n",
    "print(array.itemsize)\n",
    "print(array.size)"
   ]
  },
  {
   "cell_type": "markdown",
   "id": "126ab9bc",
   "metadata": {},
   "source": [
    "# zeros"
   ]
  },
  {
   "cell_type": "code",
   "execution_count": 9,
   "id": "bfd88aca",
   "metadata": {},
   "outputs": [
    {
     "data": {
      "text/plain": [
       "array([0., 0., 0., 0., 0.])"
      ]
     },
     "execution_count": 9,
     "metadata": {},
     "output_type": "execute_result"
    }
   ],
   "source": [
    "np.zeros(5)"
   ]
  },
  {
   "cell_type": "code",
   "execution_count": 11,
   "id": "1c65286d",
   "metadata": {},
   "outputs": [
    {
     "data": {
      "text/plain": [
       "array([[0, 0, 0, 0, 0],\n",
       "       [0, 0, 0, 0, 0],\n",
       "       [0, 0, 0, 0, 0],\n",
       "       [0, 0, 0, 0, 0],\n",
       "       [0, 0, 0, 0, 0]])"
      ]
     },
     "execution_count": 11,
     "metadata": {},
     "output_type": "execute_result"
    }
   ],
   "source": [
    "np.zeros((5,5),dtype=int)"
   ]
  },
  {
   "cell_type": "markdown",
   "id": "24b8eb26",
   "metadata": {},
   "source": [
    "# ones function"
   ]
  },
  {
   "cell_type": "code",
   "execution_count": 12,
   "id": "0f0c6ab9",
   "metadata": {},
   "outputs": [
    {
     "data": {
      "text/plain": [
       "array([1, 1, 1, 1, 1])"
      ]
     },
     "execution_count": 12,
     "metadata": {},
     "output_type": "execute_result"
    }
   ],
   "source": [
    "np.ones(5,dtype=int)"
   ]
  },
  {
   "cell_type": "code",
   "execution_count": 13,
   "id": "4b502f98",
   "metadata": {},
   "outputs": [
    {
     "data": {
      "text/plain": [
       "array([[1., 1., 1., 1., 1.],\n",
       "       [1., 1., 1., 1., 1.],\n",
       "       [1., 1., 1., 1., 1.],\n",
       "       [1., 1., 1., 1., 1.],\n",
       "       [1., 1., 1., 1., 1.]])"
      ]
     },
     "execution_count": 13,
     "metadata": {},
     "output_type": "execute_result"
    }
   ],
   "source": [
    "\n",
    "np.ones((5,5))"
   ]
  },
  {
   "cell_type": "code",
   "execution_count": 14,
   "id": "3a80d7e6",
   "metadata": {},
   "outputs": [
    {
     "data": {
      "text/plain": [
       "array([[1., 1., 1., 1., 1., 1.],\n",
       "       [1., 1., 1., 1., 1., 1.],\n",
       "       [1., 1., 1., 1., 1., 1.],\n",
       "       [1., 1., 1., 1., 1., 1.],\n",
       "       [1., 1., 1., 1., 1., 1.]])"
      ]
     },
     "execution_count": 14,
     "metadata": {},
     "output_type": "execute_result"
    }
   ],
   "source": [
    "# asymmetrics metrics\n",
    "np.ones((5,6))"
   ]
  },
  {
   "cell_type": "markdown",
   "id": "9921f924",
   "metadata": {},
   "source": [
    "# eye"
   ]
  },
  {
   "cell_type": "code",
   "execution_count": 22,
   "id": "3a83b429",
   "metadata": {},
   "outputs": [
    {
     "data": {
      "text/plain": [
       "array([[1., 0., 0., 0., 0.],\n",
       "       [0., 1., 0., 0., 0.],\n",
       "       [0., 0., 1., 0., 0.],\n",
       "       [0., 0., 0., 1., 0.],\n",
       "       [0., 0., 0., 0., 1.]])"
      ]
     },
     "execution_count": 22,
     "metadata": {},
     "output_type": "execute_result"
    }
   ],
   "source": [
    "# symmetrics metrics  no of column equel to number of rows\n",
    "np.eye(5)"
   ]
  },
  {
   "cell_type": "markdown",
   "id": "8b059fea",
   "metadata": {},
   "source": [
    "# diag"
   ]
  },
  {
   "cell_type": "code",
   "execution_count": 23,
   "id": "32a40abe",
   "metadata": {},
   "outputs": [
    {
     "data": {
      "text/plain": [
       "array([[1, 0, 0, 0],\n",
       "       [0, 2, 0, 0],\n",
       "       [0, 0, 3, 0],\n",
       "       [0, 0, 0, 4]])"
      ]
     },
     "execution_count": 23,
     "metadata": {},
     "output_type": "execute_result"
    }
   ],
   "source": [
    "np.diag((1,2,3,4))"
   ]
  },
  {
   "cell_type": "code",
   "execution_count": 24,
   "id": "d0fefac7",
   "metadata": {},
   "outputs": [
    {
     "data": {
      "text/plain": [
       "array([[1, 0, 0, 0],\n",
       "       [0, 2, 0, 0],\n",
       "       [0, 0, 3, 0],\n",
       "       [0, 0, 0, 4]])"
      ]
     },
     "execution_count": 24,
     "metadata": {},
     "output_type": "execute_result"
    }
   ],
   "source": [
    "np.diag([1,2,3,4])"
   ]
  },
  {
   "cell_type": "markdown",
   "id": "80143c74",
   "metadata": {},
   "source": [
    "# random.randint"
   ]
  },
  {
   "cell_type": "code",
   "execution_count": 32,
   "id": "6b54bbb2",
   "metadata": {},
   "outputs": [
    {
     "data": {
      "text/plain": [
       "array([6, 6, 5, 9, 9])"
      ]
     },
     "execution_count": 32,
     "metadata": {},
     "output_type": "execute_result"
    }
   ],
   "source": [
    "# np.random.randint ka use kiya jaya givan range ke according random number print karvata he \n",
    "\n",
    "np.random.randint(5,10,5)"
   ]
  },
  {
   "cell_type": "code",
   "execution_count": null,
   "id": "845b76e0",
   "metadata": {},
   "outputs": [],
   "source": []
  },
  {
   "cell_type": "markdown",
   "id": "e1698656",
   "metadata": {},
   "source": [
    "# random.rand"
   ]
  },
  {
   "cell_type": "code",
   "execution_count": 34,
   "id": "ef737abf",
   "metadata": {},
   "outputs": [
    {
     "data": {
      "text/plain": [
       "array([[0.38469547, 0.06380082, 0.34737222, 0.14257262, 0.93130437],\n",
       "       [0.59515704, 0.03235443, 0.05248477, 0.12598949, 0.96906452],\n",
       "       [0.41690986, 0.4035957 , 0.86473198, 0.32461922, 0.75452049],\n",
       "       [0.03479921, 0.34867449, 0.3733309 , 0.72976598, 0.07629249],\n",
       "       [0.76444758, 0.37883672, 0.82950475, 0.08742333, 0.52798858]])"
      ]
     },
     "execution_count": 34,
     "metadata": {},
     "output_type": "execute_result"
    }
   ],
   "source": [
    "np.random.rand(5,5)"
   ]
  },
  {
   "cell_type": "code",
   "execution_count": null,
   "id": "930ff9b7",
   "metadata": {},
   "outputs": [],
   "source": []
  },
  {
   "cell_type": "markdown",
   "id": "6797ceb1",
   "metadata": {},
   "source": [
    "# random.randn"
   ]
  },
  {
   "cell_type": "code",
   "execution_count": 35,
   "id": "ffa36a51",
   "metadata": {},
   "outputs": [
    {
     "name": "stdout",
     "output_type": "stream",
     "text": [
      "[[ 0.27496207  1.17786695  0.51500836  0.7445339   0.81216853]\n",
      " [-0.63731815  0.48799792  0.33638824  1.58218726 -1.14439071]\n",
      " [ 1.34807337  1.95630574 -0.88411339 -0.61272658 -0.59727501]\n",
      " [-1.70891617 -0.54755227 -0.89693956 -0.56404118 -0.54941208]\n",
      " [ 0.49086855 -1.14042018  1.37229795 -1.6368081   0.1534028 ]]\n"
     ]
    }
   ],
   "source": [
    "array=np.random.randn(5,5)\n",
    "print(array)"
   ]
  },
  {
   "cell_type": "markdown",
   "id": "b0c3b700",
   "metadata": {},
   "source": [
    "# reshape array"
   ]
  },
  {
   "cell_type": "code",
   "execution_count": 36,
   "id": "11bca8db",
   "metadata": {},
   "outputs": [],
   "source": [
    "# number of column multiply number of rows equel to total number of element"
   ]
  },
  {
   "cell_type": "code",
   "execution_count": 37,
   "id": "4998df20",
   "metadata": {},
   "outputs": [],
   "source": [
    "array=np.random.randint(1,100,36)"
   ]
  },
  {
   "cell_type": "code",
   "execution_count": 38,
   "id": "777a68d8",
   "metadata": {},
   "outputs": [
    {
     "data": {
      "text/plain": [
       "array([[49, 69, 69, 76, 78, 74, 48, 16, 30, 84, 10, 12, 90, 69, 63, 48,\n",
       "        36, 45,  2, 32, 90, 24, 42, 46, 55, 42, 25, 51, 40, 96, 58, 59,\n",
       "        22, 85, 74, 20]])"
      ]
     },
     "execution_count": 38,
     "metadata": {},
     "output_type": "execute_result"
    }
   ],
   "source": [
    "array.reshape((1,36))"
   ]
  },
  {
   "cell_type": "code",
   "execution_count": 40,
   "id": "f63ea2b8",
   "metadata": {},
   "outputs": [],
   "source": [
    "# array.reshape(36,1)"
   ]
  },
  {
   "cell_type": "code",
   "execution_count": 41,
   "id": "aadc89ed",
   "metadata": {},
   "outputs": [
    {
     "data": {
      "text/plain": [
       "array([[49, 69, 69],\n",
       "       [76, 78, 74],\n",
       "       [48, 16, 30],\n",
       "       [84, 10, 12],\n",
       "       [90, 69, 63],\n",
       "       [48, 36, 45],\n",
       "       [ 2, 32, 90],\n",
       "       [24, 42, 46],\n",
       "       [55, 42, 25],\n",
       "       [51, 40, 96],\n",
       "       [58, 59, 22],\n",
       "       [85, 74, 20]])"
      ]
     },
     "execution_count": 41,
     "metadata": {},
     "output_type": "execute_result"
    }
   ],
   "source": [
    "array.reshape(12,3)"
   ]
  },
  {
   "cell_type": "code",
   "execution_count": 42,
   "id": "f70b57fc",
   "metadata": {},
   "outputs": [
    {
     "data": {
      "text/plain": [
       "array([[49, 69],\n",
       "       [69, 76],\n",
       "       [78, 74],\n",
       "       [48, 16],\n",
       "       [30, 84],\n",
       "       [10, 12],\n",
       "       [90, 69],\n",
       "       [63, 48],\n",
       "       [36, 45],\n",
       "       [ 2, 32],\n",
       "       [90, 24],\n",
       "       [42, 46],\n",
       "       [55, 42],\n",
       "       [25, 51],\n",
       "       [40, 96],\n",
       "       [58, 59],\n",
       "       [22, 85],\n",
       "       [74, 20]])"
      ]
     },
     "execution_count": 42,
     "metadata": {},
     "output_type": "execute_result"
    }
   ],
   "source": [
    "array.reshape(18,2)"
   ]
  },
  {
   "cell_type": "code",
   "execution_count": 43,
   "id": "bdd72dd1",
   "metadata": {},
   "outputs": [
    {
     "data": {
      "text/plain": [
       "array([[49, 69, 69, 76, 78, 74, 48, 16, 30, 84, 10, 12, 90, 69, 63, 48,\n",
       "        36, 45],\n",
       "       [ 2, 32, 90, 24, 42, 46, 55, 42, 25, 51, 40, 96, 58, 59, 22, 85,\n",
       "        74, 20]])"
      ]
     },
     "execution_count": 43,
     "metadata": {},
     "output_type": "execute_result"
    }
   ],
   "source": [
    "array.reshape(2,18)"
   ]
  },
  {
   "cell_type": "markdown",
   "id": "5f99ed49",
   "metadata": {},
   "source": [
    "# principal of -1"
   ]
  },
  {
   "cell_type": "code",
   "execution_count": 44,
   "id": "46c79e11",
   "metadata": {},
   "outputs": [
    {
     "data": {
      "text/plain": [
       "array([[49, 69, 69, 76, 78, 74, 48, 16, 30],\n",
       "       [84, 10, 12, 90, 69, 63, 48, 36, 45],\n",
       "       [ 2, 32, 90, 24, 42, 46, 55, 42, 25],\n",
       "       [51, 40, 96, 58, 59, 22, 85, 74, 20]])"
      ]
     },
     "execution_count": 44,
     "metadata": {},
     "output_type": "execute_result"
    }
   ],
   "source": [
    "array.reshape(4,-1)"
   ]
  },
  {
   "cell_type": "markdown",
   "id": "a882d2a2",
   "metadata": {},
   "source": [
    "#  seed"
   ]
  },
  {
   "cell_type": "code",
   "execution_count": 47,
   "id": "21ae1e92",
   "metadata": {},
   "outputs": [
    {
     "data": {
      "text/plain": [
       "array([7, 2, 3, 4, 4])"
      ]
     },
     "execution_count": 47,
     "metadata": {},
     "output_type": "execute_result"
    }
   ],
   "source": [
    "np.random.seed(12)\n",
    "np.random.randint(1,10,5)"
   ]
  },
  {
   "cell_type": "code",
   "execution_count": null,
   "id": "79383ef6",
   "metadata": {},
   "outputs": [],
   "source": []
  },
  {
   "cell_type": "markdown",
   "id": "b3308371",
   "metadata": {},
   "source": [
    "# view and Copy"
   ]
  },
  {
   "cell_type": "code",
   "execution_count": 49,
   "id": "52addabb",
   "metadata": {},
   "outputs": [
    {
     "name": "stdout",
     "output_type": "stream",
     "text": [
      "[3 4 5 4 2 0 0 0 7 3]\n"
     ]
    }
   ],
   "source": [
    "# view me original data update ho jata he \n",
    "a=np.random.randint(1,10,10)\n",
    "b=a[5:8]\n",
    "b[:]=0\n",
    "print(a)"
   ]
  },
  {
   "cell_type": "code",
   "execution_count": 50,
   "id": "922515a6",
   "metadata": {},
   "outputs": [
    {
     "name": "stdout",
     "output_type": "stream",
     "text": [
      "[1 5 7 1 1 9 7 2 9 5]\n"
     ]
    }
   ],
   "source": [
    "# copy me original data update  nahi hota he \n",
    "a=np.random.randint(1,10,10)\n",
    "b=a[5:8].copy()\n",
    "b[:]=0\n",
    "print(a)"
   ]
  },
  {
   "cell_type": "code",
   "execution_count": null,
   "id": "f4ebce67",
   "metadata": {},
   "outputs": [],
   "source": []
  },
  {
   "cell_type": "markdown",
   "id": "d546f528",
   "metadata": {},
   "source": [
    "# conditional selection "
   ]
  },
  {
   "cell_type": "code",
   "execution_count": 53,
   "id": "edc0c802",
   "metadata": {},
   "outputs": [
    {
     "data": {
      "text/plain": [
       "array([ 1,  2,  3,  4,  5,  6,  7,  8,  9, 10, 11, 12, 13, 14, 15])"
      ]
     },
     "execution_count": 53,
     "metadata": {},
     "output_type": "execute_result"
    }
   ],
   "source": [
    "a=np.arange(1,16)\n",
    "a"
   ]
  },
  {
   "cell_type": "code",
   "execution_count": 55,
   "id": "37498058",
   "metadata": {},
   "outputs": [
    {
     "data": {
      "text/plain": [
       "array([11, 12, 13, 14, 15])"
      ]
     },
     "execution_count": 55,
     "metadata": {},
     "output_type": "execute_result"
    }
   ],
   "source": [
    "a[a>10]"
   ]
  },
  {
   "cell_type": "code",
   "execution_count": 56,
   "id": "615dd089",
   "metadata": {},
   "outputs": [
    {
     "data": {
      "text/plain": [
       "array([10])"
      ]
     },
     "execution_count": 56,
     "metadata": {},
     "output_type": "execute_result"
    }
   ],
   "source": [
    "a[a==10]"
   ]
  },
  {
   "cell_type": "code",
   "execution_count": 57,
   "id": "2f12b8ce",
   "metadata": {},
   "outputs": [
    {
     "data": {
      "text/plain": [
       "array([ 2,  4,  6,  8, 10, 12, 14])"
      ]
     },
     "execution_count": 57,
     "metadata": {},
     "output_type": "execute_result"
    }
   ],
   "source": [
    "a[a%2==0]"
   ]
  },
  {
   "cell_type": "code",
   "execution_count": 58,
   "id": "fb6463e1",
   "metadata": {},
   "outputs": [
    {
     "data": {
      "text/plain": [
       "array([ 1,  3,  5,  7,  9, 11, 13, 15])"
      ]
     },
     "execution_count": 58,
     "metadata": {},
     "output_type": "execute_result"
    }
   ],
   "source": [
    "a[a%2!=0]"
   ]
  },
  {
   "cell_type": "code",
   "execution_count": 59,
   "id": "fb70dfc8",
   "metadata": {},
   "outputs": [
    {
     "data": {
      "text/plain": [
       "array([ 2,  4,  6,  8, 10, 12, 14, 16, 18, 20, 22, 24, 26, 28, 30])"
      ]
     },
     "execution_count": 59,
     "metadata": {},
     "output_type": "execute_result"
    }
   ],
   "source": [
    "a*2"
   ]
  },
  {
   "cell_type": "code",
   "execution_count": 60,
   "id": "fec87edd",
   "metadata": {},
   "outputs": [
    {
     "data": {
      "text/plain": [
       "array([  1,   4,   9,  16,  25,  36,  49,  64,  81, 100, 121, 144, 169,\n",
       "       196, 225])"
      ]
     },
     "execution_count": 60,
     "metadata": {},
     "output_type": "execute_result"
    }
   ],
   "source": [
    "a**2"
   ]
  },
  {
   "cell_type": "code",
   "execution_count": 65,
   "id": "4860f1b5",
   "metadata": {},
   "outputs": [
    {
     "name": "stdout",
     "output_type": "stream",
     "text": [
      "[[1 2]\n",
      " [3 4]]\n",
      "[[2 4]\n",
      " [6 8]]\n"
     ]
    }
   ],
   "source": [
    "a=np.arange(1,5).reshape(2,2)\n",
    "b=a*2\n",
    "print(a)\n",
    "print(b)"
   ]
  },
  {
   "cell_type": "code",
   "execution_count": 68,
   "id": "5e410463",
   "metadata": {},
   "outputs": [],
   "source": [
    "d=a+b"
   ]
  },
  {
   "cell_type": "code",
   "execution_count": 70,
   "id": "fe9571d3",
   "metadata": {},
   "outputs": [
    {
     "name": "stdout",
     "output_type": "stream",
     "text": [
      "[[ 3  6]\n",
      " [ 9 12]]\n"
     ]
    }
   ],
   "source": [
    "print(d)"
   ]
  },
  {
   "cell_type": "code",
   "execution_count": 67,
   "id": "d7735a99",
   "metadata": {
    "scrolled": true
   },
   "outputs": [
    {
     "data": {
      "text/plain": [
       "array([1, 2])"
      ]
     },
     "execution_count": 67,
     "metadata": {},
     "output_type": "execute_result"
    }
   ],
   "source": [
    "c=np.arange(1,3)\n",
    "c"
   ]
  },
  {
   "cell_type": "code",
   "execution_count": 69,
   "id": "0f04a1f7",
   "metadata": {},
   "outputs": [
    {
     "data": {
      "text/plain": [
       "array([[ 4,  8],\n",
       "       [10, 14]])"
      ]
     },
     "execution_count": 69,
     "metadata": {},
     "output_type": "execute_result"
    }
   ],
   "source": [
    "\n",
    "d+c"
   ]
  },
  {
   "cell_type": "markdown",
   "id": "7b4b9a5c",
   "metadata": {},
   "source": [
    "# other important function\n",
    "\n"
   ]
  },
  {
   "cell_type": "code",
   "execution_count": 71,
   "id": "caeafa62",
   "metadata": {},
   "outputs": [],
   "source": [
    "a=np.array([10,20,30,40])"
   ]
  },
  {
   "cell_type": "code",
   "execution_count": 72,
   "id": "928e3a8a",
   "metadata": {},
   "outputs": [
    {
     "data": {
      "text/plain": [
       "0"
      ]
     },
     "execution_count": 72,
     "metadata": {},
     "output_type": "execute_result"
    }
   ],
   "source": [
    "a.argmin()"
   ]
  },
  {
   "cell_type": "code",
   "execution_count": 73,
   "id": "d5ec934b",
   "metadata": {},
   "outputs": [
    {
     "data": {
      "text/plain": [
       "3"
      ]
     },
     "execution_count": 73,
     "metadata": {},
     "output_type": "execute_result"
    }
   ],
   "source": [
    "a.argmax()"
   ]
  },
  {
   "cell_type": "code",
   "execution_count": null,
   "id": "f33f4b1c",
   "metadata": {},
   "outputs": [],
   "source": []
  },
  {
   "cell_type": "code",
   "execution_count": null,
   "id": "69897318",
   "metadata": {},
   "outputs": [],
   "source": []
  },
  {
   "cell_type": "code",
   "execution_count": null,
   "id": "c2fa7e09",
   "metadata": {},
   "outputs": [],
   "source": []
  },
  {
   "cell_type": "code",
   "execution_count": null,
   "id": "58c1675c",
   "metadata": {},
   "outputs": [],
   "source": []
  },
  {
   "cell_type": "code",
   "execution_count": null,
   "id": "44b5a4d1",
   "metadata": {},
   "outputs": [],
   "source": []
  },
  {
   "cell_type": "code",
   "execution_count": null,
   "id": "8f94f331",
   "metadata": {},
   "outputs": [],
   "source": []
  },
  {
   "cell_type": "markdown",
   "id": "d9e82b2a",
   "metadata": {},
   "source": [
    "#  linspace"
   ]
  },
  {
   "cell_type": "code",
   "execution_count": 74,
   "id": "d0da67f8",
   "metadata": {},
   "outputs": [
    {
     "data": {
      "text/plain": [
       "array([1.  , 1.25, 1.5 , 1.75, 2.  ])"
      ]
     },
     "execution_count": 74,
     "metadata": {},
     "output_type": "execute_result"
    }
   ],
   "source": [
    "np.linspace(1,2,5)"
   ]
  },
  {
   "cell_type": "code",
   "execution_count": null,
   "id": "5dc22412",
   "metadata": {},
   "outputs": [],
   "source": []
  },
  {
   "cell_type": "markdown",
   "id": "8baca6ac",
   "metadata": {},
   "source": [
    "# unique function"
   ]
  },
  {
   "cell_type": "code",
   "execution_count": 75,
   "id": "cfb1a3cb",
   "metadata": {},
   "outputs": [],
   "source": [
    "a=np.array([10,20,30,40,50,60])"
   ]
  },
  {
   "cell_type": "code",
   "execution_count": 76,
   "id": "09eb2308",
   "metadata": {},
   "outputs": [
    {
     "data": {
      "text/plain": [
       "(array([10, 20, 30, 40, 50, 60]),\n",
       " array([0, 1, 2, 3, 4, 5], dtype=int64),\n",
       " array([1, 1, 1, 1, 1, 1], dtype=int64))"
      ]
     },
     "execution_count": 76,
     "metadata": {},
     "output_type": "execute_result"
    }
   ],
   "source": [
    "np.unique(a,return_index=True,return_counts=True)"
   ]
  },
  {
   "cell_type": "markdown",
   "id": "ab299139",
   "metadata": {},
   "source": [
    "# horizontal and vertical stacking"
   ]
  },
  {
   "cell_type": "code",
   "execution_count": null,
   "id": "b6832e04",
   "metadata": {},
   "outputs": [],
   "source": []
  },
  {
   "cell_type": "code",
   "execution_count": 79,
   "id": "b3f16795",
   "metadata": {},
   "outputs": [],
   "source": [
    "a=np.array([1,2,3,4])\n",
    "b=np.array([5,6,7,8])"
   ]
  },
  {
   "cell_type": "code",
   "execution_count": 83,
   "id": "2400b728",
   "metadata": {},
   "outputs": [
    {
     "ename": "TypeError",
     "evalue": "_hvdsplit_dispatcher() missing 1 required positional argument: 'indices_or_sections'",
     "output_type": "error",
     "traceback": [
      "\u001b[1;31m---------------------------------------------------------------------------\u001b[0m",
      "\u001b[1;31mTypeError\u001b[0m                                 Traceback (most recent call last)",
      "Cell \u001b[1;32mIn[83], line 1\u001b[0m\n\u001b[1;32m----> 1\u001b[0m \u001b[43mnp\u001b[49m\u001b[38;5;241;43m.\u001b[39;49m\u001b[43mhsplit\u001b[49m\u001b[43m(\u001b[49m\u001b[43m(\u001b[49m\u001b[43ma\u001b[49m\u001b[43m,\u001b[49m\u001b[43mb\u001b[49m\u001b[43m)\u001b[49m\u001b[43m)\u001b[49m\n",
      "File \u001b[1;32m<__array_function__ internals>:179\u001b[0m, in \u001b[0;36mhsplit\u001b[1;34m(*args, **kwargs)\u001b[0m\n",
      "\u001b[1;31mTypeError\u001b[0m: _hvdsplit_dispatcher() missing 1 required positional argument: 'indices_or_sections'"
     ]
    }
   ],
   "source": [
    "np.hsplit((a,b))"
   ]
  },
  {
   "cell_type": "code",
   "execution_count": null,
   "id": "6e2db066",
   "metadata": {},
   "outputs": [],
   "source": []
  }
 ],
 "metadata": {
  "kernelspec": {
   "display_name": "Python 3 (ipykernel)",
   "language": "python",
   "name": "python3"
  },
  "language_info": {
   "codemirror_mode": {
    "name": "ipython",
    "version": 3
   },
   "file_extension": ".py",
   "mimetype": "text/x-python",
   "name": "python",
   "nbconvert_exporter": "python",
   "pygments_lexer": "ipython3",
   "version": "3.10.9"
  }
 },
 "nbformat": 4,
 "nbformat_minor": 5
}
